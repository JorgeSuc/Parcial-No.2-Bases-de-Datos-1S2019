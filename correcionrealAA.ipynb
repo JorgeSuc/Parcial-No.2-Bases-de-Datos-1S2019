{
 "cells": [
  {
   "cell_type": "markdown",
   "metadata": {},
   "source": [
    "## Parcial No. 2 Bases de Datos  \n",
    "\n",
    "    Universidad del Valle de Guatemala\n",
    "    Bases de Datos\n",
    "    Bidkar Pojoy\n",
    "                                                                                            Jorge Eduardo Suchite Martinez\n",
    "                                                                                             Carnet 15293\n",
    "                                                                                             Mayo 30, de 2019"
   ]
  },
  {
   "cell_type": "markdown",
   "metadata": {},
   "source": [
    "### Parte I Conceptos Teóricos \n",
    "\n",
    "Desarrolle / resuelva / conteste los siguientes enunciados\n",
    "\n",
    "a)¿Qué es una base de datos?\n",
    "b)Proceso de Normalización\n",
    "c)¿Cuál es el objetivo principal de la Inteligencia de Negocios? ¿Cómo se relaciona este concepto con el concepto de DataWareHouse?"
   ]
  },
  {
   "cell_type": "markdown",
   "metadata": {},
   "source": [
    "### a)  ¿Qué es una base de datos?\n",
    "\n",
    "Una Base de datos surge con el fin de ayudar al almacenamiento de información en la cual todo dato está relacionado en un mismo contexto. Además, trata de que esta información sea lo más entendible posible y al igual que su extracción. \n",
    "\n",
    "\n",
    "\n",
    "Las bases de datos como tal, surgieron con el fin de almacenar información de ventas, compras y todo lo que se tuviera que tener registro de todo lo importante ya sea de información personal o de su información monetarioa. \n",
    "\n",
    "\n",
    "Todo con fines de negocio y comercialización en un mundo globalizado e interconectado.\n",
    "\n",
    "Además, una base de datos está conformada por un:\n",
    "\n",
    "Hardaware:  que sería uno o varios discos de estado solido de gran potencia\n",
    "Software:  Es el servicio o plataforma de que se encarga del entorno de la base de datos en sí para que la información y\n",
    "el usuario interactúe.\n",
    "\n",
    "\n",
    "Administrador o Ingeniero en Ciencias de la Computación: es el encargado de velar por la integridad de la base de datos. (Parte importante puesto que es información valiosa para alguien la que está almacenada en ese lugar y tiene que ver alguien para que el usuario no cometa errores o se roben la información. s \n"
   ]
  },
  {
   "cell_type": "markdown",
   "metadata": {},
   "source": [
    "### b) Proceso de Normalización\n",
    "\n",
    "Sabemos que, en muchas de las compañias las bases de datos no están del todo correctas al momento de diseñarlas puesto que, en las épocas anteriores. Las personas solo necesitaban cierta información y solo la ponían y/o configuraban la db en base a que todo estuviera en una tabla. Lo cual no tenía ninguna conección o fluidez al momento de sacar información o se redundaba la información. o no se actualizaba en su totalidad al momento de insertar nueva información\n",
    "\n",
    "Por esto mismo, se creo la normalización de una bases de datos en la cual se puede realizar una mejor práctica de creación de bases de datos y evitar lo antes mencionado. \n",
    "\n",
    "Entidad-Relación: se creo este concepto con el fin de que también se puedera ver qué recorrido hacía la información en la base de datos al igual que puede ser una forma gráfica de normalización.\n",
    "\n",
    "Existen 4 niveles para realizar el proceso de Normalización. Pero por cuestiones de tiempo solo serán nombradas y no explicadas [F1N, F2N, F3N y F4N]\n",
    "\n"
   ]
  },
  {
   "cell_type": "markdown",
   "metadata": {},
   "source": [
    "### c) ¿Cuál es el objetivo principal de la Inteligencia de Negocios? ¿Cómo se relaciona este concepto con el concepto de DataWareHouse?\n",
    "\n",
    "1. A grandes rasgos es la forma, herramienta o medio en la cuál se obtienen datos o información de los procesos empresariales al igual de todo lo que conlleva las jerarquías y eslavones de la empresa (gestión empresarial) para poder  darles una interpretación o análisis  para poder optimizar ya sea un proceso o la rentabilidad de los servicios/productos que la empresa tiene o provee. \n",
    "\n",
    "\n",
    "\n",
    "\n",
    "2. El concepto de DataWareHouse es demasiado amplio, pero para fines de esta ocasión se resume en lo siguiente:\n",
    "   \n",
    "Se podría decir que un DataWareHouse s como un repositorio de Github en el cual está creado con el propósito de recabar información de diferentes fuentes de un negocio o de una empresa en este caso con el fin de optener análisis de cierto grupo de información y poer concluir o recomendar en base a estos resultados obtenidos por el DataWareHouse. \n",
    "   \n",
    "Estaría relacionado puesto que con la inteligencia de negocios ya se sabe cómo debe de funcionar la empresa y un datawarehouse ayudaría a saber qué está pasando en la empresa ya sea en las transacciones que se hacen o en las quejas de los clientes ( si tiene call center). El datawarehouse ayudaría a la inteligencia de negocios a mostrarle los análisis e información que obtuvo y de qué decisiones podría tomar el encargado de tomar las decisiones en la empresa.\n",
    "   \n",
    "\n",
    "\n"
   ]
  },
  {
   "cell_type": "markdown",
   "metadata": {},
   "source": [
    "# Parte II del Parcial Consultas SQL \n",
    "\n",
    "\n",
    "En base al siguiente modelo relacional\n",
    "\n",
    "cliente (id, nit, nombre, credito)\n",
    "tienda (id, nombre, direccion)\n",
    "compra (id, cliente_id, tienda_id, total, fecha)\n",
    "\n",
    "Resuelvalos siguientes enunciados:\n",
    "\n",
    "### a)Implemente el modelo relacional en SQLite. La base de datos debe de poseer datos de prueba y será utilizada por medio de Jupyter Notebooks  (10) Genere consulta SQL para generar / resolver \n",
    "\n",
    "### b)Nombres y créditos de clientes de los compradores de MAJADAS ordenado por crédito descendente y nombre ascendente.\n",
    "\n",
    "### c)Agregar en el resultado anterior el crédito en dólares a un tipo decambio de 7.8.\n",
    "\n",
    "### d)Parejas de clientes con el mismo crédito que no sean ellos mismos y que no haya parejas duplicadas\n",
    "\n",
    "### e)Clientes que han comprado en MAJADAS y no en VH\n",
    "\n",
    "### f)Todas las tiendas que tengan otras tiendas en la misma dirección\n",
    "\n",
    "### g)Clientes con los créditos más altos (sin utilizar MAX())\n",
    "\n",
    "### h)Clientes cuyo crédito en dólaressea mayor a 1 \n",
    "\n",
    "### i)Personas que no han hecho ninguna compra\n",
    "\n",
    "### j)Diferencia entre el promedio de crédito de los clientes de MAJADAS y de VH\n",
    "\n",
    "### k)Número de clientes de cada tienda, de las que tienen compras, ordenado por nombre de tienda.\n",
    "\n",
    "### l)Cree un trigger que considere apropiado para este esquema. Justifique su elección (5)\n",
    "\n",
    "### m)Genere un reporte (vista) que muestre información de ventas a ser utilizado por los gerentes de la tienda.  El diseño (columnas y filtros) debe de ser justificado. (5)\n"
   ]
  },
  {
   "cell_type": "markdown",
   "metadata": {},
   "source": [
    "### a)Implemente el modelo relacional en SQLite. La base de datos debe de poseer datos de prueba y será utilizada por medio de Jupyter Notebooks (10) Genere consulta SQL para generar / resolver"
   ]
  },
  {
   "cell_type": "code",
   "execution_count": null,
   "metadata": {},
   "outputs": [],
   "source": [
    "%load_ext sql"
   ]
  },
  {
   "cell_type": "markdown",
   "metadata": {},
   "source": [
    "Crear DB"
   ]
  },
  {
   "cell_type": "code",
   "execution_count": null,
   "metadata": {},
   "outputs": [],
   "source": [
    "%sql sqlite:///dbtrue2.db"
   ]
  },
  {
   "cell_type": "markdown",
   "metadata": {},
   "source": [
    "###  Tabla Cliente GT"
   ]
  },
  {
   "cell_type": "code",
   "execution_count": null,
   "metadata": {},
   "outputs": [],
   "source": [
    "%%sql CREATE TABLE Cliente (\n",
    "    cliente_id INTEGER PRIMARY KEY, \n",
    "    nit VARCHAR(150), \n",
    "    nombre VARCHAR(150),\n",
    "    credito INTEGER)"
   ]
  },
  {
   "cell_type": "code",
   "execution_count": null,
   "metadata": {},
   "outputs": [],
   "source": [
    "import random\n",
    "nombres = [ 'Jorge', 'Jenny', 'Aletse', 'Daniela', 'Yaneth', 'Juan', 'Josepino', 'Bidkar', 'Magda']\n",
    "apellidos = [ 'Xetumul', 'Escobar', 'Kej', 'Martinez', 'Botran', 'Salmeri', 'Sartor', 'Melgar','Moscoso']\n",
    "id = 0\n",
    "for i in range(1000):\n",
    "    id = i\n",
    "    name = random.randint(0, len(nombres)-1)\n",
    "    clienteid = name\n",
    "    ape = random.randint(0, len(apellidos)-1)\n",
    "    metal = (nombres[name] + ' ' + apellidos[ape])\n",
    "    nombreid = random.randint(0, len(metal)-1)\n",
    "    credito = round(random.uniform(100, 2000), 30)\n",
    "    nitid= random.randint(10000000,99999999)\n",
    "    \n",
    "\n",
    "\n",
    "    \n",
    "    %sql INSERT INTO Cliente VALUES ( :id, :nitid, :metal, :credito); "
   ]
  },
  {
   "cell_type": "markdown",
   "metadata": {},
   "source": [
    "###  Tabla Tienda GT"
   ]
  },
  {
   "cell_type": "code",
   "execution_count": null,
   "metadata": {},
   "outputs": [],
   "source": [
    "%%sql CREATE TABLE Tienda (\n",
    "    tienda_id INTEGER PRIMARY KEY, \n",
    "    nombre VARCHAR(150), \n",
    "    direccion VARCHAR(150))"
   ]
  },
  {
   "cell_type": "code",
   "execution_count": null,
   "metadata": {},
   "outputs": [],
   "source": [
    "import random\n",
    "Tiendas = ['La FM Zacapa', 'Mega Plaza ', 'Majadas', 'VH', 'El Duende', 'El Salama' , 'Chile Cobanero', 'Humo En Tus Ojos']\n",
    "direcciones= ['ZONA 1' , 'ZONA 2', 'ZONA 15', 'ZONA 16', 'ZONA 18', 'ZONA 12', 'GUALAN', 'LA UNION', 'PAJAPITA', 'COATEPEQUE','SOLOLA']\n",
    "\n",
    "id = 0\n",
    "for i in range(1000):\n",
    "    id = i\n",
    "    a = id\n",
    "    dire= random.randint(0, len(direcciones)-1)\n",
    "    full = (direcciones[dire] )\n",
    "    \n",
    "    tiendaid = random.randint(0, len(Tiendas)-1)\n",
    "    \n",
    "    \n",
    "  \n",
    "   \n",
    "    \n",
    "   \n",
    "    \n",
    "    %sql INSERT INTO Tienda VALUES ( :id, :a, :full); \n",
    "    "
   ]
  },
  {
   "cell_type": "code",
   "execution_count": null,
   "metadata": {},
   "outputs": [],
   "source": [
    "%sql SELECT * FROM Tienda Limit 10;"
   ]
  },
  {
   "cell_type": "markdown",
   "metadata": {},
   "source": [
    "###  Tabla Compras Compras GT"
   ]
  },
  {
   "cell_type": "code",
   "execution_count": null,
   "metadata": {},
   "outputs": [],
   "source": [
    "%%sql CREATE TABLE Compra (\n",
    "    compras_id INTEGER PRIMARY KEY, \n",
    "    cliente_id INTEGER VARCHAR(50), \n",
    "    tienda_id VARCHAR(150),\n",
    "    total INTEGER,\n",
    "    fecha DATE,\n",
    "    FOREIGN KEY (cliente_id) REFERENCES Cliente(id),\n",
    "    FOREIGN KEY (tienda_id) REFERENCES Tienda(id))"
   ]
  },
  {
   "cell_type": "code",
   "execution_count": null,
   "metadata": {},
   "outputs": [],
   "source": [
    "\n",
    "    \n",
    "    \n",
    "import random\n",
    "Tiendas = ['La FM Zacapa', 'Mega Plaza ', 'Majadas', 'VH', 'El Duende', 'El Salama' , 'Chile Cobanero', 'Humo En Tus Ojos']\n",
    "direcciones= ['ZONA 1' , 'ZONA 2', 'ZONA 15', 'ZONA 16', 'ZONA 18', 'ZONA 12', 'GUALAN', 'LA UNION', 'PAJAPITA']\n",
    "id = 0\n",
    "for i in range(1000):\n",
    "    id = i\n",
    "    name = random.randint(0, len(nombres)-1)\n",
    "    clienteid = name\n",
    "    ape = random.randint(0, len(apellidos)-1)\n",
    "    full = (nombres[name] + ' ' + apellidos[ape])\n",
    "    tiendaid = random.randint(0, len(Tiendas)-1)\n",
    "    total = round(random.uniform(100, 2000), 2)\n",
    "    \n",
    "    print(tiendaid)\n",
    "    \n",
    "    #esta parte ayuda a que se pueda ingresar la fecha a los comspras \n",
    "    day = random.randint(1, 30)\n",
    "    month = random.randint(1, 12)\n",
    "    year = random.randint(2006, 2019)\n",
    "    date = (str(day)+'/'+str(month)+'/'+str(year))\n",
    "    \n",
    "    %sql INSERT INTO Compra VALUES ( :id, :clienteid, :tiendaid, :total, :date);\n"
   ]
  },
  {
   "cell_type": "markdown",
   "metadata": {
    "collapsed": true
   },
   "source": [
    "   ### b)Nombres y créditos de clientes de los compradores de MAJADAS ordenado por crédito descendente y nombre ascendente."
   ]
  },
  {
   "cell_type": "code",
   "execution_count": 72,
   "metadata": {
    "scrolled": true
   },
   "outputs": [
    {
     "name": "stdout",
     "output_type": "stream",
     "text": [
      " * sqlite:///dbtrue2.db\n",
      "Done.\n"
     ]
    },
    {
     "data": {
      "text/html": [
       "<table>\n",
       "    <tr>\n",
       "        <th>credito</th>\n",
       "        <th>nombre</th>\n",
       "    </tr>\n",
       "    <tr>\n",
       "        <td>1900.9177627049303</td>\n",
       "        <td>Magda Xetumul</td>\n",
       "    </tr>\n",
       "    <tr>\n",
       "        <td>1900.9177627049303</td>\n",
       "        <td>Magda Xetumul</td>\n",
       "    </tr>\n",
       "    <tr>\n",
       "        <td>1900.9177627049303</td>\n",
       "        <td>Magda Xetumul</td>\n",
       "    </tr>\n",
       "    <tr>\n",
       "        <td>1900.9177627049303</td>\n",
       "        <td>Magda Xetumul</td>\n",
       "    </tr>\n",
       "    <tr>\n",
       "        <td>1900.9177627049303</td>\n",
       "        <td>Magda Xetumul</td>\n",
       "    </tr>\n",
       "    <tr>\n",
       "        <td>1900.9177627049303</td>\n",
       "        <td>Magda Xetumul</td>\n",
       "    </tr>\n",
       "    <tr>\n",
       "        <td>1900.9177627049303</td>\n",
       "        <td>Magda Xetumul</td>\n",
       "    </tr>\n",
       "    <tr>\n",
       "        <td>1900.9177627049303</td>\n",
       "        <td>Magda Xetumul</td>\n",
       "    </tr>\n",
       "    <tr>\n",
       "        <td>1900.9177627049303</td>\n",
       "        <td>Magda Xetumul</td>\n",
       "    </tr>\n",
       "    <tr>\n",
       "        <td>1900.9177627049303</td>\n",
       "        <td>Magda Xetumul</td>\n",
       "    </tr>\n",
       "    <tr>\n",
       "        <td>1900.9177627049303</td>\n",
       "        <td>Magda Xetumul</td>\n",
       "    </tr>\n",
       "    <tr>\n",
       "        <td>1885.0788442080886</td>\n",
       "        <td>Daniela Botran</td>\n",
       "    </tr>\n",
       "    <tr>\n",
       "        <td>1885.0788442080886</td>\n",
       "        <td>Daniela Botran</td>\n",
       "    </tr>\n",
       "    <tr>\n",
       "        <td>1885.0788442080886</td>\n",
       "        <td>Daniela Botran</td>\n",
       "    </tr>\n",
       "    <tr>\n",
       "        <td>1885.0788442080886</td>\n",
       "        <td>Daniela Botran</td>\n",
       "    </tr>\n",
       "    <tr>\n",
       "        <td>1885.0788442080886</td>\n",
       "        <td>Daniela Botran</td>\n",
       "    </tr>\n",
       "    <tr>\n",
       "        <td>1885.0788442080886</td>\n",
       "        <td>Daniela Botran</td>\n",
       "    </tr>\n",
       "    <tr>\n",
       "        <td>1885.0788442080886</td>\n",
       "        <td>Daniela Botran</td>\n",
       "    </tr>\n",
       "    <tr>\n",
       "        <td>1885.0788442080886</td>\n",
       "        <td>Daniela Botran</td>\n",
       "    </tr>\n",
       "    <tr>\n",
       "        <td>1885.0788442080886</td>\n",
       "        <td>Daniela Botran</td>\n",
       "    </tr>\n",
       "</table>"
      ],
      "text/plain": [
       "[(1900.9177627049303, 'Magda Xetumul'),\n",
       " (1900.9177627049303, 'Magda Xetumul'),\n",
       " (1900.9177627049303, 'Magda Xetumul'),\n",
       " (1900.9177627049303, 'Magda Xetumul'),\n",
       " (1900.9177627049303, 'Magda Xetumul'),\n",
       " (1900.9177627049303, 'Magda Xetumul'),\n",
       " (1900.9177627049303, 'Magda Xetumul'),\n",
       " (1900.9177627049303, 'Magda Xetumul'),\n",
       " (1900.9177627049303, 'Magda Xetumul'),\n",
       " (1900.9177627049303, 'Magda Xetumul'),\n",
       " (1900.9177627049303, 'Magda Xetumul'),\n",
       " (1885.0788442080886, 'Daniela Botran'),\n",
       " (1885.0788442080886, 'Daniela Botran'),\n",
       " (1885.0788442080886, 'Daniela Botran'),\n",
       " (1885.0788442080886, 'Daniela Botran'),\n",
       " (1885.0788442080886, 'Daniela Botran'),\n",
       " (1885.0788442080886, 'Daniela Botran'),\n",
       " (1885.0788442080886, 'Daniela Botran'),\n",
       " (1885.0788442080886, 'Daniela Botran'),\n",
       " (1885.0788442080886, 'Daniela Botran')]"
      ]
     },
     "execution_count": 72,
     "metadata": {},
     "output_type": "execute_result"
    }
   ],
   "source": [
    "%%sql select credito, nombre from Cliente\n",
    "inner join Compra ON Cliente.cliente_id= Compra.cliente_id\n",
    "where Compra.tienda_id=5 \n",
    "ORDER BY credito DESC, nombre ASC\n",
    "\n",
    "Limit 20;\n"
   ]
  },
  {
   "cell_type": "markdown",
   "metadata": {},
   "source": [
    "### c)Agregar en el resultado anterior el crédito en dólares a un tipo decambio de 7.8."
   ]
  },
  {
   "cell_type": "code",
   "execution_count": 73,
   "metadata": {},
   "outputs": [
    {
     "name": "stdout",
     "output_type": "stream",
     "text": [
      " * sqlite:///dbtrue2.db\n",
      "Done.\n"
     ]
    },
    {
     "data": {
      "text/html": [
       "<table>\n",
       "    <tr>\n",
       "        <th>creditodolares</th>\n",
       "        <th>nombre</th>\n",
       "    </tr>\n",
       "    <tr>\n",
       "        <td>243.70740547499108</td>\n",
       "        <td>Magda Xetumul</td>\n",
       "    </tr>\n",
       "    <tr>\n",
       "        <td>243.70740547499108</td>\n",
       "        <td>Magda Xetumul</td>\n",
       "    </tr>\n",
       "    <tr>\n",
       "        <td>243.70740547499108</td>\n",
       "        <td>Magda Xetumul</td>\n",
       "    </tr>\n",
       "    <tr>\n",
       "        <td>243.70740547499108</td>\n",
       "        <td>Magda Xetumul</td>\n",
       "    </tr>\n",
       "    <tr>\n",
       "        <td>243.70740547499108</td>\n",
       "        <td>Magda Xetumul</td>\n",
       "    </tr>\n",
       "    <tr>\n",
       "        <td>243.70740547499108</td>\n",
       "        <td>Magda Xetumul</td>\n",
       "    </tr>\n",
       "    <tr>\n",
       "        <td>243.70740547499108</td>\n",
       "        <td>Magda Xetumul</td>\n",
       "    </tr>\n",
       "    <tr>\n",
       "        <td>243.70740547499108</td>\n",
       "        <td>Magda Xetumul</td>\n",
       "    </tr>\n",
       "    <tr>\n",
       "        <td>243.70740547499108</td>\n",
       "        <td>Magda Xetumul</td>\n",
       "    </tr>\n",
       "    <tr>\n",
       "        <td>243.70740547499108</td>\n",
       "        <td>Magda Xetumul</td>\n",
       "    </tr>\n",
       "    <tr>\n",
       "        <td>243.70740547499108</td>\n",
       "        <td>Magda Xetumul</td>\n",
       "    </tr>\n",
       "    <tr>\n",
       "        <td>241.6767748984729</td>\n",
       "        <td>Daniela Botran</td>\n",
       "    </tr>\n",
       "    <tr>\n",
       "        <td>241.6767748984729</td>\n",
       "        <td>Daniela Botran</td>\n",
       "    </tr>\n",
       "    <tr>\n",
       "        <td>241.6767748984729</td>\n",
       "        <td>Daniela Botran</td>\n",
       "    </tr>\n",
       "    <tr>\n",
       "        <td>241.6767748984729</td>\n",
       "        <td>Daniela Botran</td>\n",
       "    </tr>\n",
       "</table>"
      ],
      "text/plain": [
       "[(243.70740547499108, 'Magda Xetumul'),\n",
       " (243.70740547499108, 'Magda Xetumul'),\n",
       " (243.70740547499108, 'Magda Xetumul'),\n",
       " (243.70740547499108, 'Magda Xetumul'),\n",
       " (243.70740547499108, 'Magda Xetumul'),\n",
       " (243.70740547499108, 'Magda Xetumul'),\n",
       " (243.70740547499108, 'Magda Xetumul'),\n",
       " (243.70740547499108, 'Magda Xetumul'),\n",
       " (243.70740547499108, 'Magda Xetumul'),\n",
       " (243.70740547499108, 'Magda Xetumul'),\n",
       " (243.70740547499108, 'Magda Xetumul'),\n",
       " (241.6767748984729, 'Daniela Botran'),\n",
       " (241.6767748984729, 'Daniela Botran'),\n",
       " (241.6767748984729, 'Daniela Botran'),\n",
       " (241.6767748984729, 'Daniela Botran')]"
      ]
     },
     "execution_count": 73,
     "metadata": {},
     "output_type": "execute_result"
    }
   ],
   "source": [
    "%%sql select (credito/7.8) as creditodolares, nombre from Cliente\n",
    "inner join Compra ON Cliente.cliente_id= Compra.cliente_id\n",
    "where Compra.tienda_id=5\n",
    "ORDER BY credito DESC, nombre ASC\n",
    "Limit 15;"
   ]
  },
  {
   "cell_type": "markdown",
   "metadata": {},
   "source": [
    "### d)Parejas de clientes con el mismo crédito que no sean ellos mismos y que no haya parejas duplicadas"
   ]
  },
  {
   "cell_type": "code",
   "execution_count": null,
   "metadata": {},
   "outputs": [],
   "source": [
    "%sql INSERT INTO Cliente(cliente_id,nit,nombre,credito) VALUES(4175757237,41277588654,'Solagne',100.40871531636516);"
   ]
  },
  {
   "cell_type": "code",
   "execution_count": 74,
   "metadata": {},
   "outputs": [
    {
     "name": "stdout",
     "output_type": "stream",
     "text": [
      " * sqlite:///dbtrue2.db\n",
      "Done.\n"
     ]
    },
    {
     "data": {
      "text/html": [
       "<table>\n",
       "    <tr>\n",
       "        <th>cliente_id</th>\n",
       "        <th>nit</th>\n",
       "        <th>nombre</th>\n",
       "        <th>credito</th>\n",
       "    </tr>\n",
       "    <tr>\n",
       "        <td>73</td>\n",
       "        <td>33939941</td>\n",
       "        <td>Jenny Moscoso</td>\n",
       "        <td>100.40871531636516</td>\n",
       "    </tr>\n",
       "    <tr>\n",
       "        <td>4175757237</td>\n",
       "        <td>41277588654</td>\n",
       "        <td>Solagne</td>\n",
       "        <td>100.40871531636516</td>\n",
       "    </tr>\n",
       "    <tr>\n",
       "        <td>457574717</td>\n",
       "        <td>474715727527527</td>\n",
       "        <td>AMOR Escobar</td>\n",
       "        <td>100.8489430956789</td>\n",
       "    </tr>\n",
       "    <tr>\n",
       "        <td>4123131237</td>\n",
       "        <td>4123123124214</td>\n",
       "        <td>Clementino</td>\n",
       "        <td>100.8489430956789</td>\n",
       "    </tr>\n",
       "</table>"
      ],
      "text/plain": [
       "[(73, '33939941', 'Jenny Moscoso', 100.40871531636516),\n",
       " (4175757237, '41277588654', 'Solagne', 100.40871531636516),\n",
       " (457574717, '474715727527527', 'AMOR Escobar', 100.8489430956789),\n",
       " (4123131237, '4123123124214', 'Clementino', 100.8489430956789)]"
      ]
     },
     "execution_count": 74,
     "metadata": {},
     "output_type": "execute_result"
    }
   ],
   "source": [
    "%%sql Select * from Cliente\n",
    "where credito IN\n",
    "(Select credito\n",
    "From Cliente\n",
    "Group by credito\n",
    "having Count(credito) > 0\n",
    ")\n",
    "Order by credito\n",
    "limit 4;\n",
    "\n"
   ]
  },
  {
   "cell_type": "code",
   "execution_count": null,
   "metadata": {},
   "outputs": [],
   "source": [
    "### e)Clientes que han comprado en MAJADAS y no en VH\n",
    "%%sql select credito, nombre from Cliente\n",
    "inner join Compra ON Cliente.cliente_id= Compra.cliente_id\n",
    "where Compra.tienda_id=5  Compra.tienda_id!=6\n",
    "ORDER BY credito DESC, nombre ASC;\n"
   ]
  },
  {
   "cell_type": "markdown",
   "metadata": {},
   "source": [
    "### f "
   ]
  },
  {
   "cell_type": "code",
   "execution_count": null,
   "metadata": {},
   "outputs": [],
   "source": [
    "##f)Todas las tiendas que tengan otras tiendas en la misma dirección\n",
    "\n",
    "\n",
    "%sql INSERT INTO Tienda(tienda_id, nombre,direccion) VALUES(7254480,1,'ZONA 18');"
   ]
  },
  {
   "cell_type": "markdown",
   "metadata": {},
   "source": [
    "### f)Todas las tiendas que tengan otras tiendas en la misma dirección¶"
   ]
  },
  {
   "cell_type": "code",
   "execution_count": 75,
   "metadata": {},
   "outputs": [
    {
     "name": "stdout",
     "output_type": "stream",
     "text": [
      " * sqlite:///dbtrue2.db\n",
      "Done.\n"
     ]
    },
    {
     "data": {
      "text/html": [
       "<table>\n",
       "    <tr>\n",
       "        <th>tienda_id</th>\n",
       "        <th>nombre</th>\n",
       "        <th>direccion</th>\n",
       "    </tr>\n",
       "    <tr>\n",
       "        <td>1</td>\n",
       "        <td>1</td>\n",
       "        <td>ZONA 18</td>\n",
       "    </tr>\n",
       "    <tr>\n",
       "        <td>7254480</td>\n",
       "        <td>1</td>\n",
       "        <td>ZONA 18</td>\n",
       "    </tr>\n",
       "</table>"
      ],
      "text/plain": [
       "[(1, '1', 'ZONA 18'), (7254480, '1', 'ZONA 18')]"
      ]
     },
     "execution_count": 75,
     "metadata": {},
     "output_type": "execute_result"
    }
   ],
   "source": [
    "%%sql select *from Tienda \n",
    "WHERE direccion = 'ZONA 18' AND nombre= 1\n"
   ]
  },
  {
   "cell_type": "markdown",
   "metadata": {},
   "source": [
    "### g)Clientes con los créditos más altos (sin utilizar MAX()) \n",
    "\n"
   ]
  },
  {
   "cell_type": "code",
   "execution_count": 76,
   "metadata": {},
   "outputs": [
    {
     "name": "stdout",
     "output_type": "stream",
     "text": [
      " * sqlite:///dbtrue2.db\n",
      "Done.\n"
     ]
    },
    {
     "data": {
      "text/html": [
       "<table>\n",
       "    <tr>\n",
       "        <th>credito</th>\n",
       "        <th>nombre</th>\n",
       "    </tr>\n",
       "    <tr>\n",
       "        <td>1998.115867242114</td>\n",
       "        <td>Jenny Botran</td>\n",
       "    </tr>\n",
       "    <tr>\n",
       "        <td>1993.588848874314</td>\n",
       "        <td>Bidkar Escobar</td>\n",
       "    </tr>\n",
       "    <tr>\n",
       "        <td>1992.384531298371</td>\n",
       "        <td>Aletse Martinez</td>\n",
       "    </tr>\n",
       "    <tr>\n",
       "        <td>1990.9146490967873</td>\n",
       "        <td>Magda Kej</td>\n",
       "    </tr>\n",
       "    <tr>\n",
       "        <td>1989.8455278845693</td>\n",
       "        <td>Juan Martinez</td>\n",
       "    </tr>\n",
       "</table>"
      ],
      "text/plain": [
       "[(1998.115867242114, 'Jenny Botran'),\n",
       " (1993.588848874314, 'Bidkar Escobar'),\n",
       " (1992.384531298371, 'Aletse Martinez'),\n",
       " (1990.9146490967873, 'Magda Kej'),\n",
       " (1989.8455278845693, 'Juan Martinez')]"
      ]
     },
     "execution_count": 76,
     "metadata": {},
     "output_type": "execute_result"
    }
   ],
   "source": [
    "%%sql Select credito, nombre\n",
    "from Cliente\n",
    "order by credito desc\n",
    "Limit 5;"
   ]
  },
  {
   "cell_type": "markdown",
   "metadata": {},
   "source": [
    "### h)"
   ]
  },
  {
   "cell_type": "code",
   "execution_count": 77,
   "metadata": {},
   "outputs": [
    {
     "name": "stdout",
     "output_type": "stream",
     "text": [
      " * sqlite:///dbtrue2.db\n",
      "Done.\n"
     ]
    },
    {
     "data": {
      "text/html": [
       "<table>\n",
       "    <tr>\n",
       "        <th>Credollar</th>\n",
       "        <th>nombre</th>\n",
       "    </tr>\n",
       "    <tr>\n",
       "        <td>65.34524623247418</td>\n",
       "        <td>Magda Melgar</td>\n",
       "    </tr>\n",
       "    <tr>\n",
       "        <td>241.6767748984729</td>\n",
       "        <td>Daniela Botran</td>\n",
       "    </tr>\n",
       "    <tr>\n",
       "        <td>162.55018612137428</td>\n",
       "        <td>Jenny Melgar</td>\n",
       "    </tr>\n",
       "    <tr>\n",
       "        <td>177.22524026861484</td>\n",
       "        <td>Jorge Martinez</td>\n",
       "    </tr>\n",
       "    <tr>\n",
       "        <td>212.5310717063369</td>\n",
       "        <td>Jenny Moscoso</td>\n",
       "    </tr>\n",
       "</table>"
      ],
      "text/plain": [
       "[(65.34524623247418, 'Magda Melgar'),\n",
       " (241.6767748984729, 'Daniela Botran'),\n",
       " (162.55018612137428, 'Jenny Melgar'),\n",
       " (177.22524026861484, 'Jorge Martinez'),\n",
       " (212.5310717063369, 'Jenny Moscoso')]"
      ]
     },
     "execution_count": 77,
     "metadata": {},
     "output_type": "execute_result"
    }
   ],
   "source": [
    "%%sql Select (credito/7.8) as Credollar, nombre\n",
    "from Cliente\n",
    "where Credollar > 1\n",
    "Limit 5;"
   ]
  },
  {
   "cell_type": "code",
   "execution_count": null,
   "metadata": {},
   "outputs": [],
   "source": [
    "#i)Personas que no han hecho ninguna compra\n",
    "\n",
    "#%sql Select * from Cliente Limit 10;\n",
    "\n",
    "%sql INSERT INTO Cliente(cliente_id, nit, nombre, credito) Values( 7071996, 77777777777777777, 'Edward Elric', Null);\n",
    "\n",
    "%sql Insert into Compra(compras_id,cliente_id,tienda_id,total,fecha) Values(777777777, 777777777777777, 888888888888888, 0, null);\n",
    "\n",
    "  "
   ]
  },
  {
   "cell_type": "code",
   "execution_count": 78,
   "metadata": {},
   "outputs": [
    {
     "name": "stdout",
     "output_type": "stream",
     "text": [
      " * sqlite:///dbtrue2.db\n",
      "Done.\n"
     ]
    },
    {
     "data": {
      "text/html": [
       "<table>\n",
       "    <tr>\n",
       "        <th>credito</th>\n",
       "        <th>nombre</th>\n",
       "        <th>compras_id</th>\n",
       "        <th>cliente_id</th>\n",
       "        <th>total</th>\n",
       "    </tr>\n",
       "    <tr>\n",
       "        <td>509.6929206132986</td>\n",
       "        <td>Magda Melgar</td>\n",
       "        <td>777777777</td>\n",
       "        <td>777777777777777</td>\n",
       "        <td>0</td>\n",
       "    </tr>\n",
       "    <tr>\n",
       "        <td>1885.0788442080886</td>\n",
       "        <td>Daniela Botran</td>\n",
       "        <td>777777777</td>\n",
       "        <td>777777777777777</td>\n",
       "        <td>0</td>\n",
       "    </tr>\n",
       "    <tr>\n",
       "        <td>1267.8914517467194</td>\n",
       "        <td>Jenny Melgar</td>\n",
       "        <td>777777777</td>\n",
       "        <td>777777777777777</td>\n",
       "        <td>0</td>\n",
       "    </tr>\n",
       "    <tr>\n",
       "        <td>1382.3568740951957</td>\n",
       "        <td>Jorge Martinez</td>\n",
       "        <td>777777777</td>\n",
       "        <td>777777777777777</td>\n",
       "        <td>0</td>\n",
       "    </tr>\n",
       "    <tr>\n",
       "        <td>1657.7423593094277</td>\n",
       "        <td>Jenny Moscoso</td>\n",
       "        <td>777777777</td>\n",
       "        <td>777777777777777</td>\n",
       "        <td>0</td>\n",
       "    </tr>\n",
       "    <tr>\n",
       "        <td>1263.0578421425114</td>\n",
       "        <td>Jorge Moscoso</td>\n",
       "        <td>777777777</td>\n",
       "        <td>777777777777777</td>\n",
       "        <td>0</td>\n",
       "    </tr>\n",
       "    <tr>\n",
       "        <td>1853.3449844252973</td>\n",
       "        <td>Jenny Kej</td>\n",
       "        <td>777777777</td>\n",
       "        <td>777777777777777</td>\n",
       "        <td>0</td>\n",
       "    </tr>\n",
       "    <tr>\n",
       "        <td>1900.9177627049303</td>\n",
       "        <td>Magda Xetumul</td>\n",
       "        <td>777777777</td>\n",
       "        <td>777777777777777</td>\n",
       "        <td>0</td>\n",
       "    </tr>\n",
       "    <tr>\n",
       "        <td>573.841545478766</td>\n",
       "        <td>Bidkar Martinez</td>\n",
       "        <td>777777777</td>\n",
       "        <td>777777777777777</td>\n",
       "        <td>0</td>\n",
       "    </tr>\n",
       "    <tr>\n",
       "        <td>1832.1523846663622</td>\n",
       "        <td>Juan Botran</td>\n",
       "        <td>777777777</td>\n",
       "        <td>777777777777777</td>\n",
       "        <td>0</td>\n",
       "    </tr>\n",
       "</table>"
      ],
      "text/plain": [
       "[(509.6929206132986, 'Magda Melgar', 777777777, 777777777777777, 0),\n",
       " (1885.0788442080886, 'Daniela Botran', 777777777, 777777777777777, 0),\n",
       " (1267.8914517467194, 'Jenny Melgar', 777777777, 777777777777777, 0),\n",
       " (1382.3568740951957, 'Jorge Martinez', 777777777, 777777777777777, 0),\n",
       " (1657.7423593094277, 'Jenny Moscoso', 777777777, 777777777777777, 0),\n",
       " (1263.0578421425114, 'Jorge Moscoso', 777777777, 777777777777777, 0),\n",
       " (1853.3449844252973, 'Jenny Kej', 777777777, 777777777777777, 0),\n",
       " (1900.9177627049303, 'Magda Xetumul', 777777777, 777777777777777, 0),\n",
       " (573.841545478766, 'Bidkar Martinez', 777777777, 777777777777777, 0),\n",
       " (1832.1523846663622, 'Juan Botran', 777777777, 777777777777777, 0)]"
      ]
     },
     "execution_count": 78,
     "metadata": {},
     "output_type": "execute_result"
    }
   ],
   "source": [
    "%%sql Select credito,nombre, Compra.compras_id, Compra.cliente_id, total from Cliente, Compra\n",
    " WHERE total= 0\n",
    "    Limit 10;\n",
    "\n"
   ]
  },
  {
   "cell_type": "markdown",
   "metadata": {},
   "source": [
    "### Nmero de clientes de cada tienda, de las que tienen compras, ordenado por nombre de tienda\n"
   ]
  },
  {
   "cell_type": "code",
   "execution_count": 79,
   "metadata": {},
   "outputs": [
    {
     "name": "stdout",
     "output_type": "stream",
     "text": [
      " * sqlite:///dbtrue2.db\n",
      "Done.\n"
     ]
    },
    {
     "data": {
      "text/html": [
       "<table>\n",
       "    <tr>\n",
       "        <th>tienda_id</th>\n",
       "        <th>cliente_id</th>\n",
       "        <th>count(*)</th>\n",
       "        <th>total</th>\n",
       "    </tr>\n",
       "    <tr>\n",
       "        <td>0</td>\n",
       "        <td>5</td>\n",
       "        <td>124</td>\n",
       "        <td>289.36</td>\n",
       "    </tr>\n",
       "    <tr>\n",
       "        <td>1</td>\n",
       "        <td>2</td>\n",
       "        <td>112</td>\n",
       "        <td>1257.95</td>\n",
       "    </tr>\n",
       "    <tr>\n",
       "        <td>2</td>\n",
       "        <td>6</td>\n",
       "        <td>125</td>\n",
       "        <td>1699.65</td>\n",
       "    </tr>\n",
       "    <tr>\n",
       "        <td>3</td>\n",
       "        <td>2</td>\n",
       "        <td>143</td>\n",
       "        <td>821.27</td>\n",
       "    </tr>\n",
       "    <tr>\n",
       "        <td>4</td>\n",
       "        <td>3</td>\n",
       "        <td>133</td>\n",
       "        <td>1592.83</td>\n",
       "    </tr>\n",
       "    <tr>\n",
       "        <td>5</td>\n",
       "        <td>4</td>\n",
       "        <td>112</td>\n",
       "        <td>421.4</td>\n",
       "    </tr>\n",
       "    <tr>\n",
       "        <td>6</td>\n",
       "        <td>6</td>\n",
       "        <td>118</td>\n",
       "        <td>113.15</td>\n",
       "    </tr>\n",
       "    <tr>\n",
       "        <td>7</td>\n",
       "        <td>4</td>\n",
       "        <td>133</td>\n",
       "        <td>1336.15</td>\n",
       "    </tr>\n",
       "</table>"
      ],
      "text/plain": [
       "[('0', 5, 124, 289.36),\n",
       " ('1', 2, 112, 1257.95),\n",
       " ('2', 6, 125, 1699.65),\n",
       " ('3', 2, 143, 821.27),\n",
       " ('4', 3, 133, 1592.83),\n",
       " ('5', 4, 112, 421.4),\n",
       " ('6', 6, 118, 113.15),\n",
       " ('7', 4, 133, 1336.15)]"
      ]
     },
     "execution_count": 79,
     "metadata": {},
     "output_type": "execute_result"
    }
   ],
   "source": [
    "%%sql SELECT tienda_id, cliente_id,count(*),total\n",
    "from Compra\n",
    "where total > 0\n",
    "Group by tienda_id\n",
    "Limit 20;\n",
    "\n",
    "\n",
    "\n",
    "\n",
    "\n",
    "\n",
    "\n"
   ]
  },
  {
   "cell_type": "code",
   "execution_count": null,
   "metadata": {},
   "outputs": [],
   "source": [
    "###  l)Cree un trigger que considere apropiado para este esquema. Justifique su elección (5)\n",
    "\n",
    "%%sql CREATE TRIGGER MAYUSNOMBRE\n",
    "    ON Cliente\n",
    "    AFTER INSERT, UPDATE\n",
    "AS\n",
    "BEGIN\n",
    "\n",
    "    UPDATE Cliente\n",
    "    SET nombre= Upper(nombre)\n",
    "    where cliente_id IN(SELECT cliente_id FROM Cliente)\n",
    "end;\n",
    "\n"
   ]
  },
  {
   "cell_type": "code",
   "execution_count": null,
   "metadata": {},
   "outputs": [],
   "source": []
  }
 ],
 "metadata": {
  "kernelspec": {
   "display_name": "Python 3",
   "language": "python",
   "name": "python3"
  },
  "language_info": {
   "codemirror_mode": {
    "name": "ipython",
    "version": 3
   },
   "file_extension": ".py",
   "mimetype": "text/x-python",
   "name": "python",
   "nbconvert_exporter": "python",
   "pygments_lexer": "ipython3",
   "version": "3.6.6"
  }
 },
 "nbformat": 4,
 "nbformat_minor": 1
}
